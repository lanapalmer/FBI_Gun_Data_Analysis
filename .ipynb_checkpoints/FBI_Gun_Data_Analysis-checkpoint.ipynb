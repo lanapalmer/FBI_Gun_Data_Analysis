{
 "cells": [
  {
   "cell_type": "markdown",
   "metadata": {},
   "source": [
    "\n",
    "\n",
    "\n",
    "# Project: FBI Firearm Background Check Analysis\n",
    "\n",
    "## Table of Contents\n",
    "<ul>\n",
    "<li><a href=\"#intro\">Introduction</a></li>\n",
    "<li><a href=\"#wrangling\">Data Wrangling</a></li>\n",
    "<li><a href=\"#eda\">Exploratory Data Analysis</a></li>\n",
    "<li><a href=\"#conclusions\">Conclusions</a></li>\n",
    "</ul>"
   ]
  },
  {
   "cell_type": "markdown",
   "metadata": {},
   "source": [
    "<a id='intro'></a>\n",
    "## Introduction\n",
    "\n",
    "For this project, I will use the FBI NCIS Firearm Background Check and US Census data sets to explore the following questions:\n",
    "<br>\n",
    "<ul>\n",
    "    <li> For each state, was there an increase or decrease in gun background checks per capita in 2016 compared to 2010?</li>\n",
    "    <br>\n",
    "    <li> Which state has had the highest growth in gun background checks per capita?</li>\n",
    "    <br>   \n",
    "    <li> Which state has highest percentage of <a href=\"#long_gun\">long gun</a> background checks per capita?</li>\n",
    "    </ul>\n",
    "    <br>\n",
    "    \n",
    "As the census data is given for the years 2010 and 2016, I will use these dates for my analysis.\n"
   ]
  },
  {
   "cell_type": "code",
   "execution_count": null,
   "metadata": {},
   "outputs": [],
   "source": [
    "# Importing packages\n",
    "%matplotlib inline\n",
    "\n",
    "import matplotlib\n",
    "import numpy as np\n",
    "import pandas as pd\n",
    "import matplotlib.pyplot as plt\n",
    "\n",
    "# Importing Data\n",
    "df1 = pd.read_csv('/Users/lanapalmer/jupyter/FBI_Gun_Data/us_census_data.csv')\n",
    "df2 = pd.read_csv('/Users/lanapalmer/jupyter/FBI_Gun_Data/gun_data.csv')\n"
   ]
  },
  {
   "cell_type": "markdown",
   "metadata": {},
   "source": [
    "<a id='wrangling'></a>\n",
    "## Data Wrangling\n",
    "\n",
    "### General Properties: US Census Data"
   ]
  },
  {
   "cell_type": "code",
   "execution_count": null,
   "metadata": {},
   "outputs": [],
   "source": [
    "#setting column width\n",
    "pd.set_option('max_colwidth', 2000)"
   ]
  },
  {
   "cell_type": "code",
   "execution_count": null,
   "metadata": {
    "scrolled": false
   },
   "outputs": [],
   "source": [
    "df1.head()"
   ]
  },
  {
   "cell_type": "markdown",
   "metadata": {},
   "source": [
    "> The US Census Data file includes the following data for each state: \n",
    "<ul>\n",
    "<li>Population estimate, as of July 1, 2016</li>\n",
    "<li>Population estimate, as of April 1, 2010</a></li>\n",
    "<li>Population percentage change, between April 1, 2010 and July 1, 2016 </a></li>\n",
    "<li>Population census: April 1, 2010</li>\n",
    "</ul>\n",
    "\n",
    "> Followed by demographic data, including:\n",
    "<ul>\n",
    "<li>Percentage of people under 5, under 18, and over 65</li>\n",
    "<li>Percentage of females</li>\n",
    "<li>Percentage of race, including: White, Black or African American, Hispanic, and two or more races </li>\n",
    "<li>Percentage of those without health insurance</li>\n",
    "<li>Percentage of those with an undergraduate degree or highter</li>\n",
    "<li>Percentage in civilian labor force</li>\n",
    "<li>Percentage living in poverty</li>\n",
    "<li>Per capita income</li>\n",
    "<li>Number of veterans</li>\n",
    "<li>Total employment</li>\n",
    "</ul>"
   ]
  },
  {
   "cell_type": "markdown",
   "metadata": {},
   "source": [
    "### General Properties: FBI NICS Firearm Background Check Data"
   ]
  },
  {
   "cell_type": "code",
   "execution_count": null,
   "metadata": {},
   "outputs": [],
   "source": [
    "df2.head(100)"
   ]
  },
  {
   "cell_type": "markdown",
   "metadata": {},
   "source": [
    "> The FBI NCIS Firearm Background Check Data is available <a href=\"https://www.fbi.gov/file-repository/nics_firearm_checks_-_month_year_by_state_type.pdf/view\">at this link as a PDF.</a>\n",
    "It is important to note that the data is a record of background checks, rather than actual gun sales, and as quoted in the original FBI pdf, <i> \"based on varying state laws and purchase scenarios, a one-to-one correlation cannot be made between a firearm background check and a firearm sale\"</i> (pg. 1)\n"
   ]
  },
  {
   "cell_type": "markdown",
   "metadata": {},
   "source": [
    "> The data file includes the number of background checks per month per state. The permit, permit_recheck, handgun and long_gun, other, and multiple columns represent background checks for officially-licensed Federal Firearms Licensee (FFL) or criminal justice/law enforcement agency prior to the issuance of a firearm-related permit or transfer.\n",
    "\n",
    "A <a id=\"long_gun\">'Long Gun'</a> is described as, <i>\"a weapon designed or redesigned, made or remade, and intended to be fired from the shoulder, and designed or redesigned and made or remade to use the energy of the explosive in (a) a fixed metallic cartridge to fire a single projectile through a rifled bore for each single pull of the trigger; or (b) a fixed shotgun shell to fire through a smooth bore either a number of ball shot or a single projectile for each single pull of the trigger\"</i>(pg. 1).\n",
    "\n",
    "> Other types of transactions are:\n",
    "<ul>\n",
    " <li>Pre-Pawn—background checks requested by an officially-licensed FFL on prospective firearm transferees seeking to pledge or pawn a firearm as security for the payment or repayment of money, prior to actually pledging or pawning the firearm</li>\n",
    "    <br>\n",
    "    <li>Redemption—background checks requested by an officially-licensed FFL on prospective firearm transferees attempting to regain possession of a firearm after pledging or pawning a firearm as security at a pawn shop</li> \n",
    "    <br>\n",
    "    <li>Returned/Disposition—background checks requested by criminal justice/law enforcement agencies prior to returning a firearm in its possession to the respective transferee, to ensure the individual is not prohibited</li>\n",
    "    <br>\n",
    "    <li>Rentals—background checks requested by an officially-licensed FFL on prospective firearm transferees attempting to possess a firearm when the firearm is loaned or rented for use off the premises of the business</li>\n",
    "    <br>\n",
    "    <li>Private Sale—background checks requested by an officially-licensed FFL on prospective firearm transferees attempting to possess a firearm from a private party seller who is not an officially-licensed FFL</li>\n",
    "    <br>\n",
    "    <li>Return to Seller-Private Sale—background checks requested by an officially-licensed FFL on prospective firearm transferees attempting to possess a firearm from a private party seller who is not an officially-licensed FFL. </li>\n",
    "    \n",
    "</ul>\n",
    "(pg. 1)."
   ]
  },
  {
   "cell_type": "markdown",
   "metadata": {},
   "source": [
    "### Data Cleaning: US Census Data"
   ]
  },
  {
   "cell_type": "code",
   "execution_count": null,
   "metadata": {},
   "outputs": [],
   "source": [
    "#Checking for Null values\n",
    "# creating bool series True for NaN values  \n",
    "bool_series = pd.isnull(df1)  \n",
    "\n",
    "# filtering data  \n",
    " print(df1[bool_series])"
   ]
  },
  {
   "cell_type": "code",
   "execution_count": null,
   "metadata": {},
   "outputs": [],
   "source": []
  },
  {
   "cell_type": "code",
   "execution_count": null,
   "metadata": {},
   "outputs": [],
   "source": []
  }
 ],
 "metadata": {
  "kernelspec": {
   "display_name": "Python 3",
   "language": "python",
   "name": "python3"
  },
  "language_info": {
   "codemirror_mode": {
    "name": "ipython",
    "version": 3
   },
   "file_extension": ".py",
   "mimetype": "text/x-python",
   "name": "python",
   "nbconvert_exporter": "python",
   "pygments_lexer": "ipython3",
   "version": "3.7.6"
  }
 },
 "nbformat": 4,
 "nbformat_minor": 4
}
